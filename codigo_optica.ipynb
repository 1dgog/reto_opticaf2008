{
  "nbformat": 4,
  "nbformat_minor": 0,
  "metadata": {
    "colab": {
      "provenance": [],
      "authorship_tag": "ABX9TyNtI8Fb+3/BVS9QeYYTbesJ",
      "include_colab_link": true
    },
    "kernelspec": {
      "name": "python3",
      "display_name": "Python 3"
    },
    "language_info": {
      "name": "python"
    }
  },
  "cells": [
    {
      "cell_type": "markdown",
      "metadata": {
        "id": "view-in-github",
        "colab_type": "text"
      },
      "source": [
        "<a href=\"https://colab.research.google.com/github/1dgog/reto_opticaf2008/blob/main/codigo_optica.ipynb\" target=\"_parent\"><img src=\"https://colab.research.google.com/assets/colab-badge.svg\" alt=\"Open In Colab\"/></a>"
      ]
    },
    {
      "cell_type": "markdown",
      "source": [
        "# Diseño de un escáner 3D"
      ],
      "metadata": {
        "id": "AD62uVcANmLG"
      }
    },
    {
      "cell_type": "markdown",
      "source": [
        "Conexión con google drive"
      ],
      "metadata": {
        "id": "FRjGdXh0Nqf2"
      }
    },
    {
      "cell_type": "code",
      "execution_count": 1,
      "metadata": {
        "id": "wu8-L46K5iqF"
      },
      "outputs": [],
      "source": [
        "%%capture\n",
        "from google.colab import drive\n",
        "drive.mount(\"/content/gdrive\")\n",
        "!pwd\n",
        "#put your own path in google drive\n",
        "%cd \"/content/gdrive/MyDrive\"\n",
        "!ls"
      ]
    },
    {
      "cell_type": "markdown",
      "source": [
        "Carga de librerías"
      ],
      "metadata": {
        "id": "ZlcEvk7fLoD8"
      }
    },
    {
      "cell_type": "code",
      "source": [
        "import numpy as np\n",
        "from matplotlib import pyplot as plt\n",
        "from skimage import data, img_as_float, color, exposure\n",
        "from skimage.restoration import unwrap_phase\n",
        "import math\n",
        "import axes3d"
      ],
      "metadata": {
        "id": "-CFuWwYjJXOH"
      },
      "execution_count": 5,
      "outputs": []
    },
    {
      "cell_type": "markdown",
      "source": [
        "Se forma el patrón de interferencia"
      ],
      "metadata": {
        "id": "8OsBxkCQOER2"
      }
    },
    {
      "cell_type": "code",
      "source": [
        "I1 = 4; I2 = 4;\n",
        "N = 2^10;\n",
        "aux = np.arange(-N/2, N/2-1, 1)*2/N;\n",
        "x = 20*2*math.pi*aux; y = x;\n",
        "xv, yv = np.meshgrid(x, y, indexing='xy')\n",
        "delta_phase = 0;\n",
        "#I=I1+I2+math.sqrt(I1*I2)*math.cos(xv-(delta_phase));"
      ],
      "metadata": {
        "id": "Xg7N50DQODmN"
      },
      "execution_count": 18,
      "outputs": []
    },
    {
      "cell_type": "markdown",
      "source": [
        "Se importan las imágenes con y sin objeto"
      ],
      "metadata": {
        "id": "ACx2V22vSDiZ"
      }
    },
    {
      "cell_type": "markdown",
      "source": [],
      "metadata": {
        "id": "CHZDlln6LtNn"
      }
    }
  ]
}